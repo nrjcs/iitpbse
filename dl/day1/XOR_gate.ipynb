{
  "nbformat": 4,
  "nbformat_minor": 0,
  "metadata": {
    "kernelspec": {
      "display_name": "Python 3",
      "language": "python",
      "name": "python3"
    },
    "language_info": {
      "codemirror_mode": {
        "name": "ipython",
        "version": 2
      },
      "file_extension": ".py",
      "mimetype": "text/x-python",
      "name": "python",
      "nbconvert_exporter": "python",
      "pygments_lexer": "ipython2",
      "version": "2.7.16"
    },
    "colab": {
      "name": "XOR_gate.ipynb",
      "provenance": []
    }
  },
  "cells": [
    {
      "cell_type": "markdown",
      "metadata": {
        "id": "O4rQelxA_kO6"
      },
      "source": [
        "## Implementation of XOR gate"
      ]
    },
    {
      "cell_type": "code",
      "metadata": {
        "id": "lclmxo5F_kO7"
      },
      "source": [
        "import keras\n",
        "import numpy as np\n",
        "from matplotlib import pyplot as plt\n",
        "from keras.models import Sequential\n",
        "from keras.layers import Dense\n"
      ],
      "execution_count": null,
      "outputs": []
    },
    {
      "cell_type": "markdown",
      "metadata": {
        "id": "s2VBk1_v_kO7"
      },
      "source": [
        "## Use one of the training sets: set 1 or set 2"
      ]
    },
    {
      "cell_type": "code",
      "metadata": {
        "id": "ujKFVaEa_kO8"
      },
      "source": [
        "# Training set 1\n",
        "# This will be used to train the network\n",
        "\n",
        "# Input to the gate\n",
        "x_train = np.array([[0,0],[0,1],[1,0],[1,1]], \"uint8\") \n",
        "\n",
        "# Ouput of the gate, the truth value\n",
        "y_train = np.array([[0],[1],[1],[0]], \"uint8\")"
      ],
      "execution_count": null,
      "outputs": []
    },
    {
      "cell_type": "code",
      "metadata": {
        "id": "HuKOhxx1_kO8"
      },
      "source": [
        "# # Training set 2 \n",
        "# # Let us use real nos. instead of binary int values\n",
        "\n",
        "# # Input to the gate\n",
        "# x_train = np.random.uniform(low = 0, high = 1,size=400)\n",
        "# x_train = np.reshape(x_train, [-1,2])\n",
        "# print(x_train.shape)\n",
        "\n",
        "# # Output or truth values for inputs\n",
        "# y_train = np.zeros([x_train.shape[0]])\n",
        "# print(len(y_train))\n",
        "# for i in range(x_train.shape[0]):\n",
        "#     if x_train[i,0]>=0.5 and x_train[i,1]>=0.5:\n",
        "#         y_train[i]=0\n",
        "#     if x_train[i,0]>=0.5 and x_train[i,1]<0.5:\n",
        "#         y_train[i]=1\n",
        "#     if x_train[i,0]<0.5 and x_train[i,1]>=0.5:\n",
        "#         y_train[i]=1\n",
        "#     if x_train[i,0]<0.5 and x_train[i,1]<0.5:\n",
        "#         y_train[i]=0\n",
        "        \n",
        "# # let's check the values in training set\n",
        "# print(x_train[:10])\n",
        "# print(y_train[:10])\n"
      ],
      "execution_count": null,
      "outputs": []
    },
    {
      "cell_type": "markdown",
      "metadata": {
        "id": "ACWj1Z4n_kO9"
      },
      "source": [
        "## We will discuss two models for XOR and see the concept of linear separability"
      ]
    },
    {
      "cell_type": "code",
      "metadata": {
        "scrolled": true,
        "id": "dYdqwj5l_kO9"
      },
      "source": [
        "# # Model 1: This model will not perform as desired\n",
        "\n",
        "# # Create neural networks model\n",
        "# # A sequential model is one where layers are stacked one\n",
        "# # after another and there is not skipping, feedback and\n",
        "# # distributed connection\n",
        "\n",
        "# model = Sequential()\n",
        "\n",
        "# # Add a single dense layer to the model\n",
        "# model.add(Dense(1, activation='sigmoid', input_dim=2))      # first hidden layer\n"
      ],
      "execution_count": null,
      "outputs": []
    },
    {
      "cell_type": "code",
      "metadata": {
        "id": "jdC8UMzQ_kO-"
      },
      "source": [
        "# Model 2: Observe why this model works better\n",
        "\n",
        "# Create neural networks model\n",
        "# A sequential model is one where layers are stacked one\n",
        "# after another and there is not skipping, feedback and\n",
        "# distributed connection\n",
        "\n",
        "model = Sequential()\n",
        "\n",
        "# Define the model layers\n",
        "# Compare it will model 1\n",
        "model.add(Dense(units=2,activation= 'sigmoid',input_dim=2))\n",
        "model.add(Dense(units=1,activation='sigmoid'))"
      ],
      "execution_count": null,
      "outputs": []
    },
    {
      "cell_type": "code",
      "metadata": {
        "id": "1bJb885g_kO-"
      },
      "source": [
        "# Check the model summary\n",
        "\n",
        "model.summary()"
      ],
      "execution_count": null,
      "outputs": []
    },
    {
      "cell_type": "code",
      "metadata": {
        "id": "R0AsztDw_kO-"
      },
      "source": [
        "# Compile the neural networks model\n",
        "\n",
        "model.compile(optimizer='adam', loss='binary_crossentropy', metrics=['accuracy'])"
      ],
      "execution_count": null,
      "outputs": []
    },
    {
      "cell_type": "code",
      "metadata": {
        "id": "jxjBc9GL_kO-"
      },
      "source": [
        "# Train the neural networks model\n",
        "\n",
        "history = model.fit(x_train, y_train, epochs=1000)"
      ],
      "execution_count": null,
      "outputs": []
    },
    {
      "cell_type": "code",
      "metadata": {
        "id": "kv27wfFv_kO_"
      },
      "source": [
        "# Let's plot some graphs to see how training went by\n",
        "\n",
        "history.history.keys()"
      ],
      "execution_count": null,
      "outputs": []
    },
    {
      "cell_type": "code",
      "metadata": {
        "id": "vQOaH_7G_kPA"
      },
      "source": [
        "# Behaviour of accuracy over the epochs\n",
        "\n",
        "plt.plot(history.history['accuracy'],'r')\n",
        "plt.title('model accuracy')\n",
        "plt.ylabel('accuracy')\n",
        "plt.xlabel('epoch')\n",
        "plt.legend(['training'], loc='center right')\n",
        "plt.show()"
      ],
      "execution_count": null,
      "outputs": []
    },
    {
      "cell_type": "code",
      "metadata": {
        "id": "2iZcKanG_kPA"
      },
      "source": [
        "# Behviour of loss over the epochs\n",
        "\n",
        "plt.plot(history.history['loss'],'g')\n",
        "plt.title('model loss')\n",
        "plt.ylabel('loss')\n",
        "plt.xlabel('epoch')\n",
        "plt.legend(['training'], loc='upper right')\n",
        "plt.show()"
      ],
      "execution_count": null,
      "outputs": []
    },
    {
      "cell_type": "code",
      "metadata": {
        "id": "py6YFSZH_kPB"
      },
      "source": [
        "# Let's do some prediction\n",
        "\n",
        "test = np.array([[0.1,0.1]])\n",
        "model.predict(test,batch_size=1)"
      ],
      "execution_count": null,
      "outputs": []
    },
    {
      "cell_type": "code",
      "metadata": {
        "id": "-etrb2Gu_kPB"
      },
      "source": [
        ""
      ],
      "execution_count": null,
      "outputs": []
    },
    {
      "cell_type": "code",
      "metadata": {
        "id": "2_hhtI6b_kPB"
      },
      "source": [
        ""
      ],
      "execution_count": null,
      "outputs": []
    }
  ]
}