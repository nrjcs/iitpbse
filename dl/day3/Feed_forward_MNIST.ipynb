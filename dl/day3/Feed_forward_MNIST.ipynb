{
  "nbformat": 4,
  "nbformat_minor": 0,
  "metadata": {
    "kernelspec": {
      "display_name": "Python 2",
      "language": "python",
      "name": "python2"
    },
    "language_info": {
      "codemirror_mode": {
        "name": "ipython",
        "version": 2
      },
      "file_extension": ".py",
      "mimetype": "text/x-python",
      "name": "python",
      "nbconvert_exporter": "python",
      "pygments_lexer": "ipython2",
      "version": "2.7.16"
    },
    "colab": {
      "name": "Feed_forward_MNIST.ipynb",
      "provenance": [],
      "toc_visible": true,
      "include_colab_link": true
    }
  },
  "cells": [
    {
      "cell_type": "markdown",
      "metadata": {
        "id": "view-in-github",
        "colab_type": "text"
      },
      "source": [
        "<a href=\"https://colab.research.google.com/github/aminfazy/basic_MLDL/blob/main/Feed_forward_MNIST.ipynb\" target=\"_parent\"><img src=\"https://colab.research.google.com/assets/colab-badge.svg\" alt=\"Open In Colab\"/></a>"
      ]
    },
    {
      "cell_type": "markdown",
      "metadata": {
        "id": "4GVSrEQBLSO7"
      },
      "source": [
        "## A simple feed forward network for MNIST image classification"
      ]
    },
    {
      "cell_type": "code",
      "metadata": {
        "id": "kMCuMIA_LSO9",
        "colab": {
          "base_uri": "https://localhost:8080/"
        },
        "outputId": "f76ee614-e95a-40de-d859-b25f00291cc5"
      },
      "source": [
        "# Import the required packages\n",
        "from keras.models import Sequential\n",
        "from keras.layers import Dense\n",
        "from keras.datasets import mnist\n",
        "from keras.utils import to_categorical\n",
        "import numpy as np\n",
        "from matplotlib import pyplot as plt "
      ],
      "execution_count": 1,
      "outputs": [
        {
          "output_type": "stream",
          "text": [
            "Using TensorFlow backend.\n"
          ],
          "name": "stderr"
        }
      ]
    },
    {
      "cell_type": "code",
      "metadata": {
        "id": "PC7tziQbLSPE",
        "colab": {
          "base_uri": "https://localhost:8080/"
        },
        "outputId": "43d9543d-3bc3-4dd1-fc12-552223b599d8"
      },
      "source": [
        "# Get the training data\n",
        "(train_images, train_labels), (test_images, test_labels) = mnist.load_data()\n",
        "print('Training data shape : ', train_images.shape, train_labels.shape)\n",
        "\n",
        "print('Testing data shape : ', test_images.shape, test_labels.shape)\n"
      ],
      "execution_count": 2,
      "outputs": [
        {
          "output_type": "stream",
          "text": [
            "Downloading data from https://s3.amazonaws.com/img-datasets/mnist.npz\n",
            "11493376/11490434 [==============================] - 2s 0us/step\n",
            "11501568/11490434 [==============================] - 2s 0us/step\n",
            "('Training data shape : ', (60000, 28, 28), (60000,))\n",
            "('Testing data shape : ', (10000, 28, 28), (10000,))\n"
          ],
          "name": "stdout"
        }
      ]
    },
    {
      "cell_type": "code",
      "metadata": {
        "colab": {
          "base_uri": "https://localhost:8080/"
        },
        "id": "FWR7AxNeWF7n",
        "outputId": "3c58897a-521a-42cc-e5ac-baee8f0b25df"
      },
      "source": [
        "\n",
        "# Find the unique numbers from the train labels\n",
        "classes = np.unique(train_labels)\n",
        "classes_num = len(classes)\n",
        "print('Unique output classes : ', classes)\n",
        "print('Total number of outputs : ', classes_num)"
      ],
      "execution_count": 5,
      "outputs": [
        {
          "output_type": "stream",
          "text": [
            "('Output classes : ', array([0, 1, 2, 3, 4, 5, 6, 7, 8, 9], dtype=uint8))\n",
            "('Total number of outputs : ', 10)\n"
          ],
          "name": "stdout"
        }
      ]
    },
    {
      "cell_type": "code",
      "metadata": {
        "colab": {
          "base_uri": "https://localhost:8080/",
          "height": 318
        },
        "id": "j72C_HgeWbSw",
        "outputId": "2be3607b-b832-4627-85ac-f2589fb69004"
      },
      "source": [
        "# let's see some sample images in the dataset\n",
        "\n",
        "# Define the plot size \n",
        "plt.figure(figsize=[10,5])\n",
        "\n",
        "# Display the first image in training data\n",
        "plt.subplot(121)\n",
        "plt.imshow(train_images[0,:,:], cmap='gray')\n",
        "plt.title(\"Ground Truth : {}\".format(train_labels[0]))\n",
        "\n",
        "# Display the first image in testing data\n",
        "plt.subplot(122)\n",
        "plt.imshow(test_images[0,:,:], cmap='gray')\n",
        "plt.title(\"Ground Truth : {}\".format(test_labels[0]))\n",
        "plt.show()"
      ],
      "execution_count": 10,
      "outputs": [
        {
          "output_type": "display_data",
          "data": {
            "image/png": "[encoded data removed]",
            "text/plain": [
              "<Figure size 720x360 with 2 Axes>"
            ]
          },
          "metadata": {
            "tags": [],
            "needs_background": "light"
          }
        }
      ]
    },
    {
      "cell_type": "code",
      "metadata": {
        "id": "hG9RPcn2LSPJ",
        "colab": {
          "base_uri": "https://localhost:8080/"
        },
        "outputId": "3ef5c000-4ee4-4b98-9031-4a04a68c6ff7"
      },
      "source": [
        "# Change the image format from 2D array of size 28x28 to 1D arrya of size 784\n",
        "print(train_images.shape)"
      ],
      "execution_count": 12,
      "outputs": [
        {
          "output_type": "stream",
          "text": [
            "(60000, 28, 28)\n"
          ],
          "name": "stdout"
        }
      ]
    },
    {
      "cell_type": "code",
      "metadata": {
        "colab": {
          "base_uri": "https://localhost:8080/"
        },
        "id": "Z3GGBCGAY2bC",
        "outputId": "53951465-153c-43d3-f4c7-c5bf75cf3ca8"
      },
      "source": [
        "# Get the size of required 1D array\n",
        "\n",
        "dim_data = np.prod(train_images.shape[1:])\n",
        "print(dim_data)"
      ],
      "execution_count": 15,
      "outputs": [
        {
          "output_type": "stream",
          "text": [
            "784\n"
          ],
          "name": "stdout"
        }
      ]
    },
    {
      "cell_type": "code",
      "metadata": {
        "id": "MDbDn7A4Ystx"
      },
      "source": [
        "# Now reshape the 2D array to 1D array\n",
        "\n",
        "train_data = train_images.reshape(train_images.shape[0], dim_data)\n",
        "test_data = test_images.reshape(test_images.shape[0], dim_data)"
      ],
      "execution_count": 16,
      "outputs": []
    },
    {
      "cell_type": "code",
      "metadata": {
        "id": "qgoQAWR_LSPN"
      },
      "source": [
        "# Change to float datatype\n",
        "\n",
        "train_data = train_data.astype('float32')\n",
        "test_data = test_data.astype('float32')"
      ],
      "execution_count": 17,
      "outputs": []
    },
    {
      "cell_type": "code",
      "metadata": {
        "id": "DHigwYUZLSPQ",
        "colab": {
          "base_uri": "https://localhost:8080/"
        },
        "outputId": "effd2250-abd4-4cf6-84ae-3488d7db9b4e"
      },
      "source": [
        "# Change the labels from integer to categorical data\n",
        "\n",
        "train_labels_one_hot = to_categorical(train_labels)\n",
        "test_labels_one_hot = to_categorical(test_labels)\n",
        "\n",
        "# Check how the one hot encoded labels look like\n",
        "print(test_labels_one_hot[0:10])"
      ],
      "execution_count": 28,
      "outputs": [
        {
          "output_type": "stream",
          "text": [
            "[[0. 0. 0. 0. 0. 0. 0. 1. 0. 0.]\n",
            " [0. 0. 1. 0. 0. 0. 0. 0. 0. 0.]\n",
            " [0. 1. 0. 0. 0. 0. 0. 0. 0. 0.]\n",
            " [1. 0. 0. 0. 0. 0. 0. 0. 0. 0.]\n",
            " [0. 0. 0. 0. 1. 0. 0. 0. 0. 0.]\n",
            " [0. 1. 0. 0. 0. 0. 0. 0. 0. 0.]\n",
            " [0. 0. 0. 0. 1. 0. 0. 0. 0. 0.]\n",
            " [0. 0. 0. 0. 0. 0. 0. 0. 0. 1.]\n",
            " [0. 0. 0. 0. 0. 1. 0. 0. 0. 0.]\n",
            " [0. 0. 0. 0. 0. 0. 0. 0. 0. 1.]]\n"
          ],
          "name": "stdout"
        }
      ]
    },
    {
      "cell_type": "code",
      "metadata": {
        "id": "fiBIAZTPLSPU"
      },
      "source": [
        "# Define the model\n",
        "\n",
        "model = Sequential() # type of model\n",
        "\n",
        "# Define the model layers\n",
        "\n",
        "model.add(Dense(512, activation='relu', input_shape=(dim_data,)))\n",
        "model.add(Dense(512, activation='relu'))\n",
        "model.add(Dense(classes_num, activation='softmax'))\n",
        "\n",
        "# Compile the model\n",
        "\n",
        "model.compile(optimizer='rmsprop', loss='categorical_crossentropy', metrics=['accuracy'])\n"
      ],
      "execution_count": 22,
      "outputs": []
    },
    {
      "cell_type": "code",
      "metadata": {
        "colab": {
          "base_uri": "https://localhost:8080/"
        },
        "id": "zF4K8jetaKnC",
        "outputId": "3898e399-e75d-4cfa-beb9-5c0932f56ad7"
      },
      "source": [
        "# Let's see how the model looks and check the parameters\n",
        "\n",
        "model.summary()"
      ],
      "execution_count": 23,
      "outputs": [
        {
          "output_type": "stream",
          "text": [
            "Model: \"sequential_3\"\n",
            "_________________________________________________________________\n",
            "Layer (type)                 Output Shape              Param #   \n",
            "=================================================================\n",
            "dense_6 (Dense)              (None, 512)               401920    \n",
            "_________________________________________________________________\n",
            "dense_7 (Dense)              (None, 512)               262656    \n",
            "_________________________________________________________________\n",
            "dense_8 (Dense)              (None, 10)                5130      \n",
            "=================================================================\n",
            "Total params: 669,706\n",
            "Trainable params: 669,706\n",
            "Non-trainable params: 0\n",
            "_________________________________________________________________\n"
          ],
          "name": "stdout"
        }
      ]
    },
    {
      "cell_type": "markdown",
      "metadata": {
        "id": "e85SnQtGLSPX"
      },
      "source": [
        "## Train the model"
      ]
    },
    {
      "cell_type": "code",
      "metadata": {
        "id": "-3TYv_D1LSPY"
      },
      "source": [
        "# Now we can start the training\n",
        "\n",
        "history = model.fit(train_data, train_labels_one_hot, batch_size=256, epochs=2, verbose =1,  \n",
        "                   validation_data=(test_data, test_labels_one_hot))"
      ],
      "execution_count": 33,
      "outputs": []
    },
    {
      "cell_type": "markdown",
      "metadata": {
        "id": "9awll0y2LSPb"
      },
      "source": [
        "## Evaluate the model"
      ]
    },
    {
      "cell_type": "code",
      "metadata": {
        "id": "ABN8tjPjLSPb",
        "colab": {
          "base_uri": "https://localhost:8080/"
        },
        "outputId": "83bf533b-962c-4dde-fd2d-ae1f0c23ff41"
      },
      "source": [
        "# let's run the trained model on test data and see how it performs\n",
        "\n",
        "[test_loss, test_acc] = model.evaluate(test_data, test_labels_one_hot)\n",
        "print(\"Evaluation result on Test Data : Loss = {}, accuracy = {}\".format(test_loss, test_acc))"
      ],
      "execution_count": 34,
      "outputs": [
        {
          "output_type": "stream",
          "text": [
            "10000/10000 [==============================] - 1s 65us/step\n",
            "Evaluation result on Test Data : Loss = 0.278783311943, accuracy = 0.969099998474\n"
          ],
          "name": "stdout"
        }
      ]
    },
    {
      "cell_type": "markdown",
      "metadata": {
        "id": "R_OZs-xSLSPe"
      },
      "source": [
        "## Run the sample predictions"
      ]
    },
    {
      "cell_type": "code",
      "metadata": {
        "id": "10ANGLlqLSPe",
        "colab": {
          "base_uri": "https://localhost:8080/",
          "height": 334
        },
        "outputId": "fa95236f-8616-4a86-cb1c-2caf11d384f8"
      },
      "source": [
        "# Predict the most likely class\n",
        "\n",
        "print(\"Probability of all the classes: {}\".format(model.predict(test_data[[1],:])))\n",
        "\n",
        "print(\"Model prediction: {}\".format(model.predict_classes(test_data[[1],:])))\n",
        "\n",
        "# Display the predicted image\n",
        "plt.imshow(test_images[1], cmap='gray')\n",
        "plt.title(\"Ground Truth : {}\".format(test_labels[1]))\n",
        "plt.show()"
      ],
      "execution_count": 43,
      "outputs": [
        {
          "output_type": "stream",
          "text": [
            "Probability of all the classes: [[0.0000000e+00 3.8584561e-12 1.0000000e+00 9.7661265e-29 0.0000000e+00\n",
            "  0.0000000e+00 1.7985287e-35 6.0849539e-33 1.1989075e-32 0.0000000e+00]]\n",
            "Model prediction: [2]\n"
          ],
          "name": "stdout"
        },
        {
          "output_type": "display_data",
          "data": {
            "image/png": "[encoded data removed]",
            "text/plain": [
              "<Figure size 432x288 with 1 Axes>"
            ]
          },
          "metadata": {
            "tags": [],
            "needs_background": "light"
          }
        }
      ]
    },
    {
      "cell_type": "code",
      "metadata": {
        "id": "0La8YCmvLSPh",
        "colab": {
          "base_uri": "https://localhost:8080/",
          "height": 411
        },
        "outputId": "2dd082b7-03f0-4b98-b179-2b620f87dd8e"
      },
      "source": [
        "# Let us observe the training over the epochs\n",
        "\n",
        "#Plot the Loss Curves\n",
        "plt.figure(figsize=[8,6])\n",
        "plt.plot(history.history['loss'],'r',linewidth=3.0)\n",
        "plt.plot(history.history['val_loss'],'b',linewidth=3.0)\n",
        "plt.legend(['Training loss', 'Validation Loss'],fontsize=18)\n",
        "plt.xlabel('Epochs ',fontsize=16)\n",
        "plt.ylabel('Loss',fontsize=16)\n",
        "plt.title('Loss Curves',fontsize=16)\n",
        "plt.show()"
      ],
      "execution_count": 48,
      "outputs": [
        {
          "output_type": "display_data",
          "data": {
            "image/png": "[encoded data removed]",
            "text/plain": [
              "<Figure size 576x432 with 1 Axes>"
            ]
          },
          "metadata": {
            "tags": [],
            "needs_background": "light"
          }
        }
      ]
    },
    {
      "cell_type": "code",
      "metadata": {
        "id": "jAQrM5jmeUn8",
        "outputId": "ad658a88-83f7-4e4d-993b-b53b8777e779",
        "colab": {
          "base_uri": "https://localhost:8080/",
          "height": 411
        }
      },
      "source": [
        "\n",
        "#Plot the Accuracy Curves\n",
        "\n",
        "plt.figure(figsize=[8,6])\n",
        "plt.plot(history.history['accuracy'],'r',linewidth=3.0)\n",
        "plt.plot(history.history['val_accuracy'],'b',linewidth=3.0)\n",
        "plt.legend(['Training Accuracy', 'Validation Accuracy'],fontsize=18)\n",
        "plt.xlabel('Epochs ',fontsize=16) \n",
        "plt.ylabel('Accuracy',fontsize=16) \n",
        "plt.title('Accuracy Curves',fontsize=16)\n",
        "plt.show()"
      ],
      "execution_count": 50,
      "outputs": [
        {
          "output_type": "display_data",
          "data": {
            "image/png": "[encoded data removed]",
            "text/plain": [
              "<Figure size 576x432 with 1 Axes>"
            ]
          },
          "metadata": {
            "tags": [],
            "needs_background": "light"
          }
        }
      ]
    },
    {
      "cell_type": "code",
      "metadata": {
        "id": "uO2u8MocLSPj"
      },
      "source": [
        ""
      ],
      "execution_count": null,
      "outputs": []
    }
  ]
}