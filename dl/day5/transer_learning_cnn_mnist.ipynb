{
  "nbformat": 4,
  "nbformat_minor": 0,
  "metadata": {
    "colab": {
      "name": "transer_learning_cnn_mnist.ipynb",
      "provenance": [],
      "collapsed_sections": [],
      "include_colab_link": true
    },
    "language_info": {
      "codemirror_mode": {
        "name": "ipython",
        "version": 2
      },
      "file_extension": ".py",
      "mimetype": "text/x-python",
      "name": "python",
      "nbconvert_exporter": "python",
      "pygments_lexer": "ipython2",
      "version": "2.7.16"
    },
    "kernelspec": {
      "display_name": "Python 2",
      "language": "python",
      "name": "python2"
    }
  },
  "cells": [
    {
      "cell_type": "markdown",
      "metadata": {
        "id": "view-in-github",
        "colab_type": "text"
      },
      "source": [
        "<a href=\"https://colab.research.google.com/github/nrjcs/iitpbse/blob/master/dl/day5/transer_learning_cnn_mnist.ipynb\" target=\"_parent\"><img src=\"https://colab.research.google.com/assets/colab-badge.svg\" alt=\"Open In Colab\"/></a>"
      ]
    },
    {
      "cell_type": "markdown",
      "metadata": {
        "id": "zV3jpWWaVzxL"
      },
      "source": [
        "# Transfer Learning Example"
      ]
    },
    {
      "cell_type": "markdown",
      "metadata": {
        "id": "Go-Au1mYVzxN"
      },
      "source": [
        "## Transfer learning is a basic appoach of model reuse and retraining\n",
        "### A model trained on one dataset for a different domain is refined by modifying some of the last layers and trained with new dataset\n",
        "    * This saves a lot of training time as we only need to modify some of the layers and retrain only those layers\n",
        "    * Also sometimes we don't have a very big dataset which we can use for training a model so we take pretrained model and retrain it by making only some of the layers trainable\n",
        "    * This is one of the basic techniques for domain adaptation"
      ]
    },
    {
      "cell_type": "markdown",
      "metadata": {
        "id": "fZMuPsLeVzxP"
      },
      "source": [
        "### This is a basic example from keras examples directory\n",
        "(Available @ https://github.com/keras-team/keras/blob/master/examples/mnist_transfer_cnn.py) \n",
        "\n",
        "    * - Train a simple convnet on the MNIST dataset the first 5 digits [0..4].\n",
        "    * - Freeze convolutional layers and fine-tune dense layers for the classification of digits [5..9].\n",
        "   \n",
        "\n",
        "Get to 99.8% test accuracy after 5 epochs\n",
        "for the first five digits classifier\n",
        "and 99.2% for the last five digits after transfer + fine-tuning.\n",
        "### Refer to this link for more on sequential models https://keras.io/getting-started/sequential-model-guide/"
      ]
    },
    {
      "cell_type": "code",
      "metadata": {
        "id": "Oq-x20rjVzxQ"
      },
      "source": [
        "from __future__ import print_function\n",
        "\n",
        "import datetime\n",
        "import keras\n",
        "from keras.datasets import mnist\n",
        "from keras.models import Sequential\n",
        "from keras.layers import Dense, Dropout, Activation, Flatten\n",
        "from keras.layers import Conv2D, MaxPooling2D\n",
        "from keras import backend as K\n",
        "\n",
        "now = datetime.datetime.now\n"
      ],
      "execution_count": 23,
      "outputs": []
    },
    {
      "cell_type": "code",
      "metadata": {
        "id": "_0d0Wao5VzxV"
      },
      "source": [
        "batch_size = 128  # no.of elements to be used for one iteration\n",
        "num_classes = 5   # no. of classes for training\n",
        "epochs = 5        # how many times the whole dataset should be iterated\n",
        "\n",
        "# input image dimensions\n",
        "img_rows, img_cols = 28, 28\n",
        "# number of convolutional filters to use\n",
        "filters = 32\n",
        "# size of pooling area for max pooling\n",
        "pool_size = 2\n",
        "# convolution kernel size \n",
        "kernel_size = 3  # here kernel_size means a 3x3 filter\n",
        "\n",
        "if K.image_data_format() == 'channels_first':  # channels mean no. of color channels of the image\n",
        "    input_shape = (1, img_rows, img_cols)\n",
        "else:\n",
        "    input_shape = (img_rows, img_cols, 1)    # tensorflow uses channels_last config by default"
      ],
      "execution_count": 24,
      "outputs": []
    },
    {
      "cell_type": "markdown",
      "metadata": {
        "id": "R7v5c7MuVzxZ"
      },
      "source": [
        "### Define the funtion which will run the training with input model and training data \n",
        "    This function basically does some preprocessing on training data and then runs compile and fit functions of keras.models.Sequential "
      ]
    },
    {
      "cell_type": "code",
      "metadata": {
        "id": "vlhI0XceVzxa"
      },
      "source": [
        "def train_model(model, train, test, num_classes):\n",
        "    x_train = train[0].reshape((train[0].shape[0],) + input_shape)\n",
        "    x_test = test[0].reshape((test[0].shape[0],) + input_shape)\n",
        "    x_train = x_train.astype('float32')\n",
        "    x_test = x_test.astype('float32')\n",
        "    x_train /= 255\n",
        "    x_test /= 255\n",
        "    print('x_train shape:', x_train.shape)\n",
        "    print(x_train.shape[0], 'train samples')\n",
        "    print(x_test.shape[0], 'test samples')\n",
        "\n",
        "    # convert class vectors to binary class matrices\n",
        "    y_train = keras.utils.to_categorical(train[1], num_classes)\n",
        "    y_test = keras.utils.to_categorical(test[1], num_classes)\n",
        "\n",
        "    # compile the model\n",
        "    # you can chnage the parameters in this compile function\n",
        "    # custom funtions for loss and opitizer can be used: ref to keras documentation for more\n",
        "    model.compile(loss='categorical_crossentropy',\n",
        "                  optimizer='adadelta',\n",
        "                  metrics=['accuracy'])\n",
        "\n",
        "    # Train the model\n",
        "    t = now()\n",
        "    hist = model.fit(x_train, y_train,\n",
        "              batch_size=batch_size,\n",
        "              epochs=epochs,\n",
        "              verbose=1,\n",
        "              validation_data=(x_test, y_test))\n",
        "    score = model.evaluate(x_test, y_test, verbose=0)\n",
        "    print('Training time: %s' % (now() - t))\n",
        "    print('Test score:', score[0])\n",
        "    print('Test accuracy:', score[1])\n",
        "    return hist"
      ],
      "execution_count": 25,
      "outputs": []
    },
    {
      "cell_type": "code",
      "metadata": {
        "id": "GnJPmvcmVzxd"
      },
      "source": [
        "# Get the data, split between train and test sets\n",
        "(x_train, y_train), (x_test, y_test) = mnist.load_data()\n"
      ],
      "execution_count": 26,
      "outputs": []
    },
    {
      "cell_type": "code",
      "metadata": {
        "colab": {
          "base_uri": "https://localhost:8080/"
        },
        "id": "C086u-fUwhNy",
        "outputId": "cc415393-cc37-4e83-83e4-a7fff5a73a22"
      },
      "source": [
        "\n",
        "# create two datasets\n",
        "# one with digits below 5 \n",
        "x_train_lt5 = x_train[y_train < 5]\n",
        "y_train_lt5 = y_train[y_train < 5]\n",
        "x_test_lt5 = x_test[y_test < 5]\n",
        "y_test_lt5 = y_test[y_test < 5]\n",
        "print(x_train.shape)\n",
        "print(x_train[y_train<5].shape)\n"
      ],
      "execution_count": 27,
      "outputs": [
        {
          "output_type": "stream",
          "text": [
            "(60000, 28, 28)\n",
            "(30596, 28, 28)\n"
          ],
          "name": "stdout"
        }
      ]
    },
    {
      "cell_type": "code",
      "metadata": {
        "id": "2SBiyFJKkyY_",
        "outputId": "1c5ef75f-7e68-4c13-9cfc-ed9b7f9bca86",
        "colab": {
          "base_uri": "https://localhost:8080/"
        }
      },
      "source": [
        "print(y_train_lt5.shape)\n",
        "print(y_train_lt5[1:15])"
      ],
      "execution_count": 28,
      "outputs": [
        {
          "output_type": "stream",
          "text": [
            "(30596,)\n",
            "[4 1 2 1 3 1 4 3 3 1 2 4 0 1]\n"
          ],
          "name": "stdout"
        }
      ]
    },
    {
      "cell_type": "code",
      "metadata": {
        "id": "r87z5qD7wUmU"
      },
      "source": [
        "# digits 5 and above\n",
        "\n",
        "x_train_gte5 = x_train[y_train >= 5]\n",
        "y_train_gte5 = y_train[y_train >= 5] - 5\n",
        "x_test_gte5 = x_test[y_test >= 5]\n",
        "y_test_gte5 = y_test[y_test >= 5] - 5 \n"
      ],
      "execution_count": 47,
      "outputs": []
    },
    {
      "cell_type": "code",
      "metadata": {
        "id": "OVumUzL4jgBp",
        "outputId": "83635841-f211-421b-b414-00a782779ae5",
        "colab": {
          "base_uri": "https://localhost:8080/"
        }
      },
      "source": [
        "print(y_train_gte5[1:15])\n"
      ],
      "execution_count": 48,
      "outputs": [
        {
          "output_type": "stream",
          "text": [
            "[4 0 1 2 3 1 4 4 2 3 1 4 0 1]\n"
          ],
          "name": "stdout"
        }
      ]
    },
    {
      "cell_type": "code",
      "metadata": {
        "id": "FtmmlBX6Vzxg"
      },
      "source": [
        "# define two groups of layers: feature (convolutions) and classification (dense)\n",
        "feature_layers = [\n",
        "    Conv2D(filters, kernel_size,\n",
        "           padding='valid',\n",
        "           input_shape=input_shape),\n",
        "    Activation('relu'),\n",
        "    Conv2D(filters, kernel_size),\n",
        "    Activation('relu'),\n",
        "    MaxPooling2D(pool_size=pool_size),\n",
        "    Dropout(0.25),\n",
        "    Flatten(),\n",
        "]\n",
        "\n",
        "classification_layers = [\n",
        "    Dense(128),\n",
        "    Activation('relu'),\n",
        "    Dropout(0.5),\n",
        "    Dense(num_classes),\n",
        "    Activation('softmax')\n",
        "]"
      ],
      "execution_count": 31,
      "outputs": []
    },
    {
      "cell_type": "code",
      "metadata": {
        "id": "caNz-QGXVzxj"
      },
      "source": [
        "# create complete model\n",
        "model = Sequential(feature_layers + classification_layers)\n"
      ],
      "execution_count": 32,
      "outputs": []
    },
    {
      "cell_type": "code",
      "metadata": {
        "colab": {
          "base_uri": "https://localhost:8080/"
        },
        "id": "3LG28sPIpu-9",
        "outputId": "74177078-737c-491b-f480-60c0a96efbfc"
      },
      "source": [
        "\n",
        "# train model for 5-digit classification [0..4]\n",
        "h_org = train_model(model,\n",
        "            (x_train_lt5, y_train_lt5),\n",
        "            (x_test_lt5, y_test_lt5), num_classes)"
      ],
      "execution_count": 33,
      "outputs": [
        {
          "output_type": "stream",
          "text": [
            "x_train shape: (30596, 28, 28, 1)\n",
            "30596 train samples\n",
            "5139 test samples\n",
            "Train on 30596 samples, validate on 5139 samples\n",
            "Epoch 1/5\n",
            "30596/30596 [==============================] - 49s 2ms/step - loss: 0.1578 - accuracy: 0.9505 - val_loss: 0.0241 - val_accuracy: 0.9922\n",
            "Epoch 2/5\n",
            "30596/30596 [==============================] - 49s 2ms/step - loss: 0.0433 - accuracy: 0.9875 - val_loss: 0.0129 - val_accuracy: 0.9957\n",
            "Epoch 3/5\n",
            "30596/30596 [==============================] - 49s 2ms/step - loss: 0.0298 - accuracy: 0.9908 - val_loss: 0.0095 - val_accuracy: 0.9969\n",
            "Epoch 4/5\n",
            "30596/30596 [==============================] - 49s 2ms/step - loss: 0.0233 - accuracy: 0.9925 - val_loss: 0.0084 - val_accuracy: 0.9967\n",
            "Epoch 5/5\n",
            "30596/30596 [==============================] - 49s 2ms/step - loss: 0.0198 - accuracy: 0.9941 - val_loss: 0.0076 - val_accuracy: 0.9965\n",
            "Test score: 0.00755110418764\n",
            "Test accuracy: 0.996497392654\n"
          ],
          "name": "stdout"
        }
      ]
    },
    {
      "cell_type": "code",
      "metadata": {
        "id": "yRL5cmBxmxGz",
        "outputId": "9b322ddd-dc79-4d62-d39a-87329be2c4ed",
        "colab": {
          "base_uri": "https://localhost:8080/"
        }
      },
      "source": [
        "print(type(h_org))\n",
        "print(h_org.history.keys())\n",
        "print(model.metrics_names)"
      ],
      "execution_count": 51,
      "outputs": [
        {
          "output_type": "stream",
          "text": [
            "<class 'keras.callbacks.callbacks.History'>\n",
            "['loss', 'val_accuracy', 'val_loss', 'accuracy']\n",
            "['loss', 'accuracy']\n"
          ],
          "name": "stdout"
        }
      ]
    },
    {
      "cell_type": "code",
      "metadata": {
        "id": "loZsq-INnSC6",
        "outputId": "3ab93e20-875d-4967-ec67-79f019b30a7d",
        "colab": {
          "base_uri": "https://localhost:8080/",
          "height": 295
        }
      },
      "source": [
        "# plot accuracy over the epochs\n",
        "from matplotlib import pyplot as plt\n",
        "plt.plot(h_org.history['accuracy'],'r')\n",
        "plt.plot(h_org.history['val_accuracy'],'b')\n",
        "plt.title('model accuracy')\n",
        "plt.ylabel('accuracy')\n",
        "plt.xlabel('epoch')\n",
        "plt.legend(['training', 'validation'], loc='center right')\n",
        "plt.show()"
      ],
      "execution_count": 44,
      "outputs": [
        {
          "output_type": "display_data",
          "data": {
            "image/png": "[encoded data removed]",
            "text/plain": [
              "<Figure size 432x288 with 1 Axes>"
            ]
          },
          "metadata": {
            "tags": [],
            "needs_background": "light"
          }
        }
      ]
    },
    {
      "cell_type": "code",
      "metadata": {
        "id": "NZzumOyvng47",
        "outputId": "b6b508db-c6f0-44ed-be51-e80833e12736",
        "colab": {
          "base_uri": "https://localhost:8080/",
          "height": 295
        }
      },
      "source": [
        "# Behviour of loss over the epochs\n",
        "\n",
        "plt.plot(h_org.history['loss'],'g')\n",
        "plt.plot(h_org.history['val_loss'],'b')\n",
        "plt.title('model loss')\n",
        "plt.ylabel('loss')\n",
        "plt.xlabel('epoch')\n",
        "plt.legend(['training', 'validation'], loc='upper right')\n",
        "plt.show()"
      ],
      "execution_count": 46,
      "outputs": [
        {
          "output_type": "display_data",
          "data": {
            "image/png": "[encoded data removed]",
            "text/plain": [
              "<Figure size 432x288 with 1 Axes>"
            ]
          },
          "metadata": {
            "tags": [],
            "needs_background": "light"
          }
        }
      ]
    },
    {
      "cell_type": "markdown",
      "metadata": {
        "id": "fWRUTPmiVzxn"
      },
      "source": [
        "### Model trained in the above block can be used for classifying digits 5 to 9 by fine tuning it\n",
        "    For fine tuning we will freeze all the convolutional and maxpooling layers (feature layers)\n",
        "    This can be done by making those layers non-trainable\n",
        "    only the top(last) two layers (dense layers) are left trainable"
      ]
    },
    {
      "cell_type": "code",
      "metadata": {
        "id": "wQNVmjw1Vzxo"
      },
      "source": [
        "# freeze feature layers and rebuild model\n",
        "for l in feature_layers:\n",
        "    l.trainable = False\n"
      ],
      "execution_count": 49,
      "outputs": []
    },
    {
      "cell_type": "code",
      "metadata": {
        "colab": {
          "base_uri": "https://localhost:8080/"
        },
        "id": "jXxNnEMIqNoA",
        "outputId": "c1c080d9-ede4-49e2-c74d-60fbe7d0748b"
      },
      "source": [
        "\n",
        "# transfer: train dense layers for new classification task [5..9]\n",
        "h_retr = train_model(model,\n",
        "            (x_train_gte5, y_train_gte5),\n",
        "            (x_test_gte5, y_test_gte5), num_classes)"
      ],
      "execution_count": 50,
      "outputs": [
        {
          "output_type": "stream",
          "text": [
            "x_train shape: (29404, 28, 28, 1)\n",
            "29404 train samples\n",
            "4861 test samples\n",
            "Train on 29404 samples, validate on 4861 samples\n",
            "Epoch 1/5\n",
            "29404/29404 [==============================] - 17s 580us/step - loss: 0.2570 - accuracy: 0.9273 - val_loss: 0.0541 - val_accuracy: 0.9809\n",
            "Epoch 2/5\n",
            "29404/29404 [==============================] - 17s 574us/step - loss: 0.0827 - accuracy: 0.9748 - val_loss: 0.0369 - val_accuracy: 0.9879\n",
            "Epoch 3/5\n",
            "29404/29404 [==============================] - 17s 575us/step - loss: 0.0608 - accuracy: 0.9813 - val_loss: 0.0314 - val_accuracy: 0.9887\n",
            "Epoch 4/5\n",
            "29404/29404 [==============================] - 17s 573us/step - loss: 0.0523 - accuracy: 0.9837 - val_loss: 0.0279 - val_accuracy: 0.9907\n",
            "Epoch 5/5\n",
            "29404/29404 [==============================] - 17s 569us/step - loss: 0.0458 - accuracy: 0.9865 - val_loss: 0.0252 - val_accuracy: 0.9901\n",
            "Test score: 0.025156080519\n",
            "Test accuracy: 0.990125477314\n"
          ],
          "name": "stdout"
        }
      ]
    }
  ]
}