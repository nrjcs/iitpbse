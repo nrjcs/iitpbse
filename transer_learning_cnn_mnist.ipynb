{
  "nbformat": 4,
  "nbformat_minor": 0,
  "metadata": {
    "colab": {
      "name": "transer_learning_cnn_mnist.ipynb",
      "provenance": [],
      "collapsed_sections": [],
      "include_colab_link": true
    },
    "language_info": {
      "codemirror_mode": {
        "name": "ipython",
        "version": 2
      },
      "file_extension": ".py",
      "mimetype": "text/x-python",
      "name": "python",
      "nbconvert_exporter": "python",
      "pygments_lexer": "ipython2",
      "version": "2.7.16"
    },
    "kernelspec": {
      "display_name": "Python 2",
      "language": "python",
      "name": "python2"
    }
  },
  "cells": [
    {
      "cell_type": "markdown",
      "metadata": {
        "id": "view-in-github",
        "colab_type": "text"
      },
      "source": [
        "<a href=\"https://colab.research.google.com/github/nrjcs/iitpbse/blob/master/transer_learning_cnn_mnist.ipynb\" target=\"_parent\"><img src=\"https://colab.research.google.com/assets/colab-badge.svg\" alt=\"Open In Colab\"/></a>"
      ]
    },
    {
      "cell_type": "markdown",
      "metadata": {
        "id": "zV3jpWWaVzxL"
      },
      "source": [
        "# Transfer Learning Example"
      ]
    },
    {
      "cell_type": "markdown",
      "metadata": {
        "id": "Go-Au1mYVzxN"
      },
      "source": [
        "## Transfer learning is a basic appoach of model reuse and retraining\n",
        "### A model trained on one dataset for a different domain is refined by modifying some of the last layers and trained with new dataset\n",
        "    * This saves a lot of training time as we only need to modify some of the layers and retrain only those layers\n",
        "    * Also sometimes we don't have a very big dataset which we can use for training a model so we take pretrained model and retrain it by making only some of the layers trainable\n",
        "    * This is one of the basic techniques for domain adaptation"
      ]
    },
    {
      "cell_type": "markdown",
      "metadata": {
        "id": "fZMuPsLeVzxP"
      },
      "source": [
        "### This is a basic example from keras examples directory\n",
        "(Available @ https://github.com/keras-team/keras/blob/master/examples/mnist_transfer_cnn.py) \n",
        "\n",
        "    * - Train a simple convnet on the MNIST dataset the first 5 digits [0..4].\n",
        "    * - Freeze convolutional layers and fine-tune dense layers for the classification of digits [5..9].\n",
        "   \n",
        "\n",
        "Get to 99.8% test accuracy after 5 epochs\n",
        "for the first five digits classifier\n",
        "and 99.2% for the last five digits after transfer + fine-tuning.\n",
        "### Refer to this link for more on sequential models https://keras.io/getting-started/sequential-model-guide/"
      ]
    },
    {
      "cell_type": "code",
      "metadata": {
        "id": "Oq-x20rjVzxQ",
        "colab": {
          "base_uri": "https://localhost:8080/"
        },
        "outputId": "6ba9b73e-0c0a-4b71-cec7-65cb2698ce27"
      },
      "source": [
        "from __future__ import print_function\n",
        "\n",
        "import datetime\n",
        "import keras\n",
        "from keras.datasets import mnist\n",
        "from keras.models import Sequential\n",
        "from keras.layers import Dense, Dropout, Activation, Flatten\n",
        "from keras.layers import Conv2D, MaxPooling2D\n",
        "from keras import backend as K"
      ],
      "execution_count": 1,
      "outputs": [
        {
          "output_type": "stream",
          "text": [
            "Using TensorFlow backend.\n"
          ],
          "name": "stderr"
        }
      ]
    },
    {
      "cell_type": "code",
      "metadata": {
        "id": "_0d0Wao5VzxV"
      },
      "source": [
        "now = datetime.datetime.now\n",
        "\n",
        "batch_size = 128  # no.of elements to be used for one iteration\n",
        "num_classes = 5   # no. of classes for training\n",
        "epochs = 5        # how many times the whole dataset should be iterated\n",
        "\n",
        "# input image dimensions\n",
        "img_rows, img_cols = 28, 28\n",
        "# number of convolutional filters to use\n",
        "filters = 32\n",
        "# size of pooling area for max pooling\n",
        "pool_size = 2\n",
        "# convolution kernel size \n",
        "kernel_size = 3  # here kernel_size means a 3x3 filter\n",
        "\n",
        "if K.image_data_format() == 'channels_first':  # channels mean no. of color channels of the image\n",
        "    input_shape = (1, img_rows, img_cols)\n",
        "else:\n",
        "    input_shape = (img_rows, img_cols, 1)    # tensorflow uses channels_last config by default"
      ],
      "execution_count": 2,
      "outputs": []
    },
    {
      "cell_type": "markdown",
      "metadata": {
        "id": "R7v5c7MuVzxZ"
      },
      "source": [
        "### Define the funtion which will run the training with input model and training data \n",
        "    This function basically does some preprocessing on training data and then runs compile and fit functions of keras.models.Sequential "
      ]
    },
    {
      "cell_type": "code",
      "metadata": {
        "id": "vlhI0XceVzxa"
      },
      "source": [
        "def train_model(model, train, test, num_classes):\n",
        "    x_train = train[0].reshape((train[0].shape[0],) + input_shape)\n",
        "    x_test = test[0].reshape((test[0].shape[0],) + input_shape)\n",
        "    x_train = x_train.astype('float32')\n",
        "    x_test = x_test.astype('float32')\n",
        "    x_train /= 255\n",
        "    x_test /= 255\n",
        "    print('x_train shape:', x_train.shape)\n",
        "    print(x_train.shape[0], 'train samples')\n",
        "    print(x_test.shape[0], 'test samples')\n",
        "\n",
        "    # convert class vectors to binary class matrices\n",
        "    y_train = keras.utils.to_categorical(train[1], num_classes)\n",
        "    y_test = keras.utils.to_categorical(test[1], num_classes)\n",
        "\n",
        "    # compile the model\n",
        "    # you can chnage the parameters in this compile function\n",
        "    # custom funtions for loss and opitizer can be used: ref to keras documentation for more\n",
        "    model.compile(loss='categorical_crossentropy',\n",
        "                  optimizer='adadelta',\n",
        "                  metrics=['accuracy'])\n",
        "\n",
        "    t = now()\n",
        "    \n",
        "    # Train the model\n",
        "    model.fit(x_train, y_train,\n",
        "              batch_size=batch_size,\n",
        "              epochs=epochs,\n",
        "              verbose=1,\n",
        "              validation_data=(x_test, y_test))\n",
        "    print('Training time: %s' % (now() - t))\n",
        "    score = model.evaluate(x_test, y_test, verbose=0)\n",
        "    print('Test score:', score[0])\n",
        "    print('Test accuracy:', score[1])"
      ],
      "execution_count": 3,
      "outputs": []
    },
    {
      "cell_type": "code",
      "metadata": {
        "id": "GnJPmvcmVzxd"
      },
      "source": [
        "# Get the data, split between train and test sets\n",
        "(x_train, y_train), (x_test, y_test) = mnist.load_data()\n"
      ],
      "execution_count": 14,
      "outputs": []
    },
    {
      "cell_type": "code",
      "metadata": {
        "colab": {
          "base_uri": "https://localhost:8080/"
        },
        "id": "C086u-fUwhNy",
        "outputId": "df40af0a-48e7-4e75-8e22-da9ec47f2d15"
      },
      "source": [
        "\n",
        "# create two datasets\n",
        "# one with digits below 5 \n",
        "x_train_lt5 = x_train[y_train < 5]\n",
        "y_train_lt5 = y_train[y_train < 5]\n",
        "x_test_lt5 = x_test[y_test < 5]\n",
        "y_test_lt5 = y_test[y_test < 5]\n",
        "print(x_train.shape)\n",
        "print(x_train[y_train<5].shape)\n"
      ],
      "execution_count": 20,
      "outputs": [
        {
          "output_type": "stream",
          "text": [
            "(60000, 28, 28)\n",
            "(30596, 28, 28)\n",
            "[False  True  True ... False False False]\n"
          ],
          "name": "stdout"
        }
      ]
    },
    {
      "cell_type": "code",
      "metadata": {
        "id": "r87z5qD7wUmU"
      },
      "source": [
        "# one with digits below 5 one with 5 and above\n",
        "\n",
        "x_train_gte5 = x_train[y_train >= 5]\n",
        "y_train_gte5 = y_train[y_train >= 5] - 5\n",
        "x_test_gte5 = x_test[y_test >= 5]\n",
        "y_test_gte5 = y_test[y_test >= 5] - 5"
      ],
      "execution_count": null,
      "outputs": []
    },
    {
      "cell_type": "code",
      "metadata": {
        "id": "FtmmlBX6Vzxg"
      },
      "source": [
        "# define two groups of layers: feature (convolutions) and classification (dense)\n",
        "feature_layers = [\n",
        "    Conv2D(filters, kernel_size,\n",
        "           padding='valid',\n",
        "           input_shape=input_shape),\n",
        "    Activation('relu'),\n",
        "    Conv2D(filters, kernel_size),\n",
        "    Activation('relu'),\n",
        "    MaxPooling2D(pool_size=pool_size),\n",
        "    Dropout(0.25),\n",
        "    Flatten(),\n",
        "]\n",
        "\n",
        "classification_layers = [\n",
        "    Dense(128),\n",
        "    Activation('relu'),\n",
        "    Dropout(0.5),\n",
        "    Dense(num_classes),\n",
        "    Activation('softmax')\n",
        "]"
      ],
      "execution_count": 7,
      "outputs": []
    },
    {
      "cell_type": "code",
      "metadata": {
        "id": "caNz-QGXVzxj"
      },
      "source": [
        "# create complete model\n",
        "model = Sequential(feature_layers + classification_layers)\n"
      ],
      "execution_count": 8,
      "outputs": []
    },
    {
      "cell_type": "code",
      "metadata": {
        "colab": {
          "base_uri": "https://localhost:8080/"
        },
        "id": "3LG28sPIpu-9",
        "outputId": "330e826d-04bf-4703-ae6f-20a321073456"
      },
      "source": [
        "\n",
        "# train model for 5-digit classification [0..4]\n",
        "train_model(model,\n",
        "            (x_train_lt5, y_train_lt5),\n",
        "            (x_test_lt5, y_test_lt5), num_classes)"
      ],
      "execution_count": 9,
      "outputs": [
        {
          "output_type": "stream",
          "text": [
            "x_train shape: (30596, 28, 28, 1)\n",
            "30596 train samples\n",
            "5139 test samples\n",
            "Train on 30596 samples, validate on 5139 samples\n",
            "Epoch 1/5\n",
            "30596/30596 [==============================] - 51s 2ms/step - loss: 0.1567 - accuracy: 0.9516 - val_loss: 0.0235 - val_accuracy: 0.9914\n",
            "Epoch 2/5\n",
            "30596/30596 [==============================] - 50s 2ms/step - loss: 0.0450 - accuracy: 0.9868 - val_loss: 0.0144 - val_accuracy: 0.9951\n",
            "Epoch 3/5\n",
            "30596/30596 [==============================] - 50s 2ms/step - loss: 0.0306 - accuracy: 0.9904 - val_loss: 0.0098 - val_accuracy: 0.9965\n",
            "Epoch 4/5\n",
            "30596/30596 [==============================] - 55s 2ms/step - loss: 0.0243 - accuracy: 0.9931 - val_loss: 0.0093 - val_accuracy: 0.9967\n",
            "Epoch 5/5\n",
            "30596/30596 [==============================] - 50s 2ms/step - loss: 0.0206 - accuracy: 0.9935 - val_loss: 0.0071 - val_accuracy: 0.9977\n",
            "Training time: 0:04:16.376184\n",
            "Test score: 0.00712347641429\n",
            "Test accuracy: 0.997664928436\n"
          ],
          "name": "stdout"
        }
      ]
    },
    {
      "cell_type": "markdown",
      "metadata": {
        "id": "fWRUTPmiVzxn"
      },
      "source": [
        "### Model trained in the above block can be used for classifying digits 5 to 9 by fine tuning it\n",
        "    For fine tuning we will freeze all the convolutional and maxpooling layers (feature layers)\n",
        "    This can be done by making those layers non-trainable\n",
        "    only the top(last) two layers (dense layers) are left trainable"
      ]
    },
    {
      "cell_type": "code",
      "metadata": {
        "id": "wQNVmjw1Vzxo"
      },
      "source": [
        "# freeze feature layers and rebuild model\n",
        "for l in feature_layers:\n",
        "    l.trainable = False\n"
      ],
      "execution_count": 11,
      "outputs": []
    },
    {
      "cell_type": "code",
      "metadata": {
        "colab": {
          "base_uri": "https://localhost:8080/"
        },
        "id": "jXxNnEMIqNoA",
        "outputId": "205bb3e7-8287-4f5e-9bf5-bb656dfff981"
      },
      "source": [
        "\n",
        "# transfer: train dense layers for new classification task [5..9]\n",
        "train_model(model,\n",
        "            (x_train_gte5, y_train_gte5),\n",
        "            (x_test_gte5, y_test_gte5), num_classes)"
      ],
      "execution_count": 12,
      "outputs": [
        {
          "output_type": "stream",
          "text": [
            "x_train shape: (29404, 28, 28, 1)\n",
            "29404 train samples\n",
            "4861 test samples\n",
            "Train on 29404 samples, validate on 4861 samples\n",
            "Epoch 1/5\n",
            "29404/29404 [==============================] - 17s 586us/step - loss: 0.0998 - accuracy: 0.9696 - val_loss: 0.0403 - val_accuracy: 0.9870\n",
            "Epoch 2/5\n",
            "29404/29404 [==============================] - 17s 583us/step - loss: 0.0702 - accuracy: 0.9796 - val_loss: 0.0341 - val_accuracy: 0.9883\n",
            "Epoch 3/5\n",
            "29404/29404 [==============================] - 17s 583us/step - loss: 0.0566 - accuracy: 0.9827 - val_loss: 0.0290 - val_accuracy: 0.9907\n",
            "Epoch 4/5\n",
            "29404/29404 [==============================] - 17s 583us/step - loss: 0.0509 - accuracy: 0.9839 - val_loss: 0.0260 - val_accuracy: 0.9912\n",
            "Epoch 5/5\n",
            "29404/29404 [==============================] - 17s 593us/step - loss: 0.0463 - accuracy: 0.9862 - val_loss: 0.0269 - val_accuracy: 0.9912\n",
            "Training time: 0:01:26.483375\n",
            "Test score: 0.0269463523341\n",
            "Test accuracy: 0.991154074669\n"
          ],
          "name": "stdout"
        }
      ]
    }
  ]
}